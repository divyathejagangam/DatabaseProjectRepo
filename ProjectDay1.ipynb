{
 "cells": [
  {
   "cell_type": "code",
   "execution_count": 1,
   "id": "bcbfb7e4",
   "metadata": {},
   "outputs": [
    {
     "name": "stdout",
     "output_type": "stream",
     "text": [
      "helloworld\n"
     ]
    }
   ],
   "source": [
    "print(\"helloworld\")"
   ]
  },
  {
   "cell_type": "code",
   "execution_count": 2,
   "id": "e28ed914",
   "metadata": {},
   "outputs": [
    {
     "name": "stdout",
     "output_type": "stream",
     "text": [
      "Column Names: StudentID, FirstName, LastName, Course, Professor, ProfessorEmail, CourseStart, CourseEnd\n",
      "Enter the determinant (or 'exit' to finish): StudentID -> FirstName, LastName\n",
      "Invalid column name. Please enter a valid column name.\n",
      "Column Names: StudentID, FirstName, LastName, Course, Professor, ProfessorEmail, CourseStart, CourseEnd\n",
      "Enter the determinant (or 'exit' to finish): 'StudentID' -> 'FirstName', 'LastName'\n",
      "Invalid column name. Please enter a valid column name.\n",
      "Column Names: StudentID, FirstName, LastName, Course, Professor, ProfessorEmail, CourseStart, CourseEnd\n",
      "Enter the determinant (or 'exit' to finish): StudentID-> FirstName, LastName\n",
      "Invalid column name. Please enter a valid column name.\n",
      "Column Names: StudentID, FirstName, LastName, Course, Professor, ProfessorEmail, CourseStart, CourseEnd\n",
      "Enter the determinant (or 'exit' to finish): StudentID\n",
      "Enter the dependent attributes separated by commas: FirstName, LastName\n",
      "Functional dependency 'StudentID' -> FirstName, LastName' added.\n",
      "Column Names: StudentID, FirstName, LastName, Course, Professor, ProfessorEmail, CourseStart, CourseEnd\n",
      "Enter the determinant (or 'exit' to finish): Course\n",
      "Enter the dependent attributes separated by commas: CourseStart, CourseEnd, Professor\n",
      "Functional dependency 'Course' -> CourseStart, CourseEnd, Professor' added.\n",
      "Column Names: StudentID, FirstName, LastName, Course, Professor, ProfessorEmail, CourseStart, CourseEnd\n",
      "Enter the determinant (or 'exit' to finish): Professor\n",
      "Enter the dependent attributes separated by commas: ProfessorEmail\n",
      "Functional dependency 'Professor' -> ProfessorEmail' added.\n",
      "Column Names: StudentID, FirstName, LastName, Course, Professor, ProfessorEmail, CourseStart, CourseEnd\n",
      "Enter the determinant (or 'exit' to finish): exit\n",
      "Entered Functional Dependencies:\n",
      "StudentID -> FirstName, LastName\n",
      "Course -> CourseStart, CourseEnd, Professor\n",
      "Professor -> ProfessorEmail\n"
     ]
    }
   ],
   "source": [
    "import csv\n",
    "\n",
    "# Read the CSV file to get column names (assumes the first row contains headers).\n",
    "def get_column_names(csv_file_path):\n",
    "    with open(csv_file_path, mode='r', newline='') as file:\n",
    "        reader = csv.DictReader(file)\n",
    "        return reader.fieldnames\n",
    "\n",
    "# Function to input functional dependencies interactively.\n",
    "def input_functional_dependencies(column_names):\n",
    "    functional_dependencies = {}\n",
    "    while True:\n",
    "        print(\"Column Names:\", \", \".join(column_names))\n",
    "        left_side = input(\"Enter the determinant (or 'exit' to finish): \").strip()\n",
    "        if left_side.lower() == \"exit\":\n",
    "            break\n",
    "        if left_side not in column_names:\n",
    "            print(\"Invalid column name. Please enter a valid column name.\")\n",
    "            continue\n",
    "        right_side = input(\"Enter the dependent attributes separated by commas: \").strip()\n",
    "        right_side = [attr.strip() for attr in right_side.split(',')]\n",
    "        functional_dependencies[left_side] = right_side\n",
    "        print(f\"Functional dependency '{left_side}' -> {', '.join(right_side)}' added.\")\n",
    "    return functional_dependencies\n",
    "\n",
    "# Example usage:\n",
    "if __name__ == \"__main__\":\n",
    "    csv_file_path = '/Users/divyathejagangam/Downloads/Database Systems/exampleInputTable.csv'  # Replace with your CSV file path\n",
    "    column_names = get_column_names(csv_file_path)\n",
    "    functional_dependencies = input_functional_dependencies(column_names)\n",
    "    print(\"Entered Functional Dependencies:\")\n",
    "    for left_side, right_side in functional_dependencies.items():\n",
    "        print(f\"{left_side} -> {', '.join(right_side)}\")"
   ]
  },
  {
   "cell_type": "code",
   "execution_count": null,
   "id": "3bd5c0f7",
   "metadata": {},
   "outputs": [],
   "source": []
  }
 ],
 "metadata": {
  "kernelspec": {
   "display_name": "Python 3 (ipykernel)",
   "language": "python",
   "name": "python3"
  },
  "language_info": {
   "codemirror_mode": {
    "name": "ipython",
    "version": 3
   },
   "file_extension": ".py",
   "mimetype": "text/x-python",
   "name": "python",
   "nbconvert_exporter": "python",
   "pygments_lexer": "ipython3",
   "version": "3.9.13"
  }
 },
 "nbformat": 4,
 "nbformat_minor": 5
}
